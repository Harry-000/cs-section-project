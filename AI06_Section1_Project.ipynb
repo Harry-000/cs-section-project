{
  "nbformat": 4,
  "nbformat_minor": 0,
  "metadata": {
    "colab": {
      "name": "AI06_Section1_Project.ipynb",
      "provenance": [],
      "toc_visible": true
    },
    "kernelspec": {
      "name": "python3",
      "display_name": "Python 3"
    },
    "language_info": {
      "name": "python"
    }
  },
  "cells": [
    {
      "cell_type": "markdown",
      "metadata": {
        "id": "_LdUWxqIBihG"
      },
      "source": [
        "## **데이터 불러오기**"
      ]
    },
    {
      "cell_type": "code",
      "metadata": {
        "id": "AVJWiWvsHFh0"
      },
      "source": [
        "import pandas as pd\n",
        "url = 'https://ds-lecture-data.s3.ap-northeast-2.amazonaws.com/datasets/vgames2.csv'\n",
        "df = pd.read_csv(url)"
      ],
      "execution_count": 6,
      "outputs": []
    },
    {
      "cell_type": "code",
      "metadata": {
        "id": "2SLtVg4EkmFF"
      },
      "source": [
        "df = df.fillna(0)\n",
        "df.isnull().sum()\n",
        "df.drop(columns='Unnamed: 0',inplace = True)"
      ],
      "execution_count": 7,
      "outputs": []
    },
    {
      "cell_type": "code",
      "metadata": {
        "id": "ObdwId1FknQF",
        "colab": {
          "base_uri": "https://localhost:8080/",
          "height": 0
        },
        "outputId": "5e851c71-694e-49f5-822f-1c719196381b"
      },
      "source": [
        "df"
      ],
      "execution_count": 8,
      "outputs": [
        {
          "output_type": "execute_result",
          "data": {
            "text/html": [
              "<div>\n",
              "<style scoped>\n",
              "    .dataframe tbody tr th:only-of-type {\n",
              "        vertical-align: middle;\n",
              "    }\n",
              "\n",
              "    .dataframe tbody tr th {\n",
              "        vertical-align: top;\n",
              "    }\n",
              "\n",
              "    .dataframe thead th {\n",
              "        text-align: right;\n",
              "    }\n",
              "</style>\n",
              "<table border=\"1\" class=\"dataframe\">\n",
              "  <thead>\n",
              "    <tr style=\"text-align: right;\">\n",
              "      <th></th>\n",
              "      <th>Name</th>\n",
              "      <th>Platform</th>\n",
              "      <th>Year</th>\n",
              "      <th>Genre</th>\n",
              "      <th>Publisher</th>\n",
              "      <th>NA_Sales</th>\n",
              "      <th>EU_Sales</th>\n",
              "      <th>JP_Sales</th>\n",
              "      <th>Other_Sales</th>\n",
              "    </tr>\n",
              "  </thead>\n",
              "  <tbody>\n",
              "    <tr>\n",
              "      <th>0</th>\n",
              "      <td>Candace Kane's Candy Factory</td>\n",
              "      <td>DS</td>\n",
              "      <td>2008.0</td>\n",
              "      <td>Action</td>\n",
              "      <td>Destineer</td>\n",
              "      <td>0.04</td>\n",
              "      <td>0</td>\n",
              "      <td>0</td>\n",
              "      <td>0</td>\n",
              "    </tr>\n",
              "    <tr>\n",
              "      <th>1</th>\n",
              "      <td>The Munchables</td>\n",
              "      <td>Wii</td>\n",
              "      <td>2009.0</td>\n",
              "      <td>Action</td>\n",
              "      <td>Namco Bandai Games</td>\n",
              "      <td>0.17</td>\n",
              "      <td>0</td>\n",
              "      <td>0</td>\n",
              "      <td>0.01</td>\n",
              "    </tr>\n",
              "    <tr>\n",
              "      <th>2</th>\n",
              "      <td>Otome wa Oanesama Boku ni Koi Shiteru Portable</td>\n",
              "      <td>PSP</td>\n",
              "      <td>2010.0</td>\n",
              "      <td>Adventure</td>\n",
              "      <td>Alchemist</td>\n",
              "      <td>0</td>\n",
              "      <td>0</td>\n",
              "      <td>0.02</td>\n",
              "      <td>0</td>\n",
              "    </tr>\n",
              "    <tr>\n",
              "      <th>3</th>\n",
              "      <td>Deal or No Deal: Special Edition</td>\n",
              "      <td>DS</td>\n",
              "      <td>2010.0</td>\n",
              "      <td>Misc</td>\n",
              "      <td>Zoo Games</td>\n",
              "      <td>0.04</td>\n",
              "      <td>0</td>\n",
              "      <td>0</td>\n",
              "      <td>0</td>\n",
              "    </tr>\n",
              "    <tr>\n",
              "      <th>4</th>\n",
              "      <td>Ben 10 Ultimate Alien: Cosmic Destruction</td>\n",
              "      <td>PS3</td>\n",
              "      <td>2010.0</td>\n",
              "      <td>Platform</td>\n",
              "      <td>D3Publisher</td>\n",
              "      <td>0.12</td>\n",
              "      <td>0.09</td>\n",
              "      <td>0</td>\n",
              "      <td>0.04</td>\n",
              "    </tr>\n",
              "    <tr>\n",
              "      <th>...</th>\n",
              "      <td>...</td>\n",
              "      <td>...</td>\n",
              "      <td>...</td>\n",
              "      <td>...</td>\n",
              "      <td>...</td>\n",
              "      <td>...</td>\n",
              "      <td>...</td>\n",
              "      <td>...</td>\n",
              "      <td>...</td>\n",
              "    </tr>\n",
              "    <tr>\n",
              "      <th>16593</th>\n",
              "      <td>Ice Age 2: The Meltdown</td>\n",
              "      <td>GC</td>\n",
              "      <td>2006.0</td>\n",
              "      <td>Platform</td>\n",
              "      <td>Vivendi Games</td>\n",
              "      <td>0.15</td>\n",
              "      <td>0.04</td>\n",
              "      <td>0</td>\n",
              "      <td>0.01</td>\n",
              "    </tr>\n",
              "    <tr>\n",
              "      <th>16594</th>\n",
              "      <td>Rainbow Islands: Revolution</td>\n",
              "      <td>PSP</td>\n",
              "      <td>2005.0</td>\n",
              "      <td>Action</td>\n",
              "      <td>Rising Star Games</td>\n",
              "      <td>0.01</td>\n",
              "      <td>0</td>\n",
              "      <td>0</td>\n",
              "      <td>0</td>\n",
              "    </tr>\n",
              "    <tr>\n",
              "      <th>16595</th>\n",
              "      <td>NBA 2K16</td>\n",
              "      <td>PS3</td>\n",
              "      <td>2015.0</td>\n",
              "      <td>Sports</td>\n",
              "      <td>Take-Two Interactive</td>\n",
              "      <td>0.44</td>\n",
              "      <td>0.19</td>\n",
              "      <td>0.03</td>\n",
              "      <td>0.13</td>\n",
              "    </tr>\n",
              "    <tr>\n",
              "      <th>16596</th>\n",
              "      <td>Toukiden: The Age of Demons</td>\n",
              "      <td>PSV</td>\n",
              "      <td>2013.0</td>\n",
              "      <td>Action</td>\n",
              "      <td>Tecmo Koei</td>\n",
              "      <td>0.05</td>\n",
              "      <td>0.05</td>\n",
              "      <td>0.25</td>\n",
              "      <td>0.03</td>\n",
              "    </tr>\n",
              "    <tr>\n",
              "      <th>16597</th>\n",
              "      <td>The King of Fighters '95</td>\n",
              "      <td>PS</td>\n",
              "      <td>1996.0</td>\n",
              "      <td>Fighting</td>\n",
              "      <td>Sony Computer Entertainment</td>\n",
              "      <td>0</td>\n",
              "      <td>0</td>\n",
              "      <td>0.16</td>\n",
              "      <td>0.01</td>\n",
              "    </tr>\n",
              "  </tbody>\n",
              "</table>\n",
              "<p>16598 rows × 9 columns</p>\n",
              "</div>"
            ],
            "text/plain": [
              "                                                 Name  ... Other_Sales\n",
              "0                        Candace Kane's Candy Factory  ...           0\n",
              "1                                      The Munchables  ...        0.01\n",
              "2      Otome wa Oanesama Boku ni Koi Shiteru Portable  ...           0\n",
              "3                    Deal or No Deal: Special Edition  ...           0\n",
              "4           Ben 10 Ultimate Alien: Cosmic Destruction  ...        0.04\n",
              "...                                               ...  ...         ...\n",
              "16593                         Ice Age 2: The Meltdown  ...        0.01\n",
              "16594                     Rainbow Islands: Revolution  ...           0\n",
              "16595                                        NBA 2K16  ...        0.13\n",
              "16596                     Toukiden: The Age of Demons  ...        0.03\n",
              "16597                        The King of Fighters '95  ...        0.01\n",
              "\n",
              "[16598 rows x 9 columns]"
            ]
          },
          "metadata": {
            "tags": []
          },
          "execution_count": 8
        }
      ]
    },
    {
      "cell_type": "markdown",
      "metadata": {
        "id": "ZCM2PCzuBxFZ"
      },
      "source": [
        "## **데이터 전처리(지역값 단위 통일)**\n",
        "\n",
        "단위 : 만\n",
        "\n",
        "Type : Float"
      ]
    },
    {
      "cell_type": "code",
      "metadata": {
        "id": "m8IIFpVHvlxJ",
        "colab": {
          "base_uri": "https://localhost:8080/",
          "height": 0
        },
        "outputId": "792ce580-5047-4ab8-dc1c-cc32468f3cfa"
      },
      "source": [
        "# '지역에 따라서 선호하는 게임 장르가 다를까'\n",
        "country_sales = df.iloc[:,5:]\n",
        "country_sales"
      ],
      "execution_count": 9,
      "outputs": [
        {
          "output_type": "execute_result",
          "data": {
            "text/html": [
              "<div>\n",
              "<style scoped>\n",
              "    .dataframe tbody tr th:only-of-type {\n",
              "        vertical-align: middle;\n",
              "    }\n",
              "\n",
              "    .dataframe tbody tr th {\n",
              "        vertical-align: top;\n",
              "    }\n",
              "\n",
              "    .dataframe thead th {\n",
              "        text-align: right;\n",
              "    }\n",
              "</style>\n",
              "<table border=\"1\" class=\"dataframe\">\n",
              "  <thead>\n",
              "    <tr style=\"text-align: right;\">\n",
              "      <th></th>\n",
              "      <th>NA_Sales</th>\n",
              "      <th>EU_Sales</th>\n",
              "      <th>JP_Sales</th>\n",
              "      <th>Other_Sales</th>\n",
              "    </tr>\n",
              "  </thead>\n",
              "  <tbody>\n",
              "    <tr>\n",
              "      <th>0</th>\n",
              "      <td>0.04</td>\n",
              "      <td>0</td>\n",
              "      <td>0</td>\n",
              "      <td>0</td>\n",
              "    </tr>\n",
              "    <tr>\n",
              "      <th>1</th>\n",
              "      <td>0.17</td>\n",
              "      <td>0</td>\n",
              "      <td>0</td>\n",
              "      <td>0.01</td>\n",
              "    </tr>\n",
              "    <tr>\n",
              "      <th>2</th>\n",
              "      <td>0</td>\n",
              "      <td>0</td>\n",
              "      <td>0.02</td>\n",
              "      <td>0</td>\n",
              "    </tr>\n",
              "    <tr>\n",
              "      <th>3</th>\n",
              "      <td>0.04</td>\n",
              "      <td>0</td>\n",
              "      <td>0</td>\n",
              "      <td>0</td>\n",
              "    </tr>\n",
              "    <tr>\n",
              "      <th>4</th>\n",
              "      <td>0.12</td>\n",
              "      <td>0.09</td>\n",
              "      <td>0</td>\n",
              "      <td>0.04</td>\n",
              "    </tr>\n",
              "    <tr>\n",
              "      <th>...</th>\n",
              "      <td>...</td>\n",
              "      <td>...</td>\n",
              "      <td>...</td>\n",
              "      <td>...</td>\n",
              "    </tr>\n",
              "    <tr>\n",
              "      <th>16593</th>\n",
              "      <td>0.15</td>\n",
              "      <td>0.04</td>\n",
              "      <td>0</td>\n",
              "      <td>0.01</td>\n",
              "    </tr>\n",
              "    <tr>\n",
              "      <th>16594</th>\n",
              "      <td>0.01</td>\n",
              "      <td>0</td>\n",
              "      <td>0</td>\n",
              "      <td>0</td>\n",
              "    </tr>\n",
              "    <tr>\n",
              "      <th>16595</th>\n",
              "      <td>0.44</td>\n",
              "      <td>0.19</td>\n",
              "      <td>0.03</td>\n",
              "      <td>0.13</td>\n",
              "    </tr>\n",
              "    <tr>\n",
              "      <th>16596</th>\n",
              "      <td>0.05</td>\n",
              "      <td>0.05</td>\n",
              "      <td>0.25</td>\n",
              "      <td>0.03</td>\n",
              "    </tr>\n",
              "    <tr>\n",
              "      <th>16597</th>\n",
              "      <td>0</td>\n",
              "      <td>0</td>\n",
              "      <td>0.16</td>\n",
              "      <td>0.01</td>\n",
              "    </tr>\n",
              "  </tbody>\n",
              "</table>\n",
              "<p>16598 rows × 4 columns</p>\n",
              "</div>"
            ],
            "text/plain": [
              "      NA_Sales EU_Sales JP_Sales Other_Sales\n",
              "0         0.04        0        0           0\n",
              "1         0.17        0        0        0.01\n",
              "2            0        0     0.02           0\n",
              "3         0.04        0        0           0\n",
              "4         0.12     0.09        0        0.04\n",
              "...        ...      ...      ...         ...\n",
              "16593     0.15     0.04        0        0.01\n",
              "16594     0.01        0        0           0\n",
              "16595     0.44     0.19     0.03        0.13\n",
              "16596     0.05     0.05     0.25        0.03\n",
              "16597        0        0     0.16        0.01\n",
              "\n",
              "[16598 rows x 4 columns]"
            ]
          },
          "metadata": {
            "tags": []
          },
          "execution_count": 9
        }
      ]
    },
    {
      "cell_type": "code",
      "metadata": {
        "id": "Ge3eGcNNZfWC"
      },
      "source": [
        "lst = []\n",
        "def toFloat(column) :\n",
        "  for i in range(len(column)) :\n",
        "    data = column[i].lower()\n",
        "    if data.find('k') != -1 : \n",
        "      column[i] = float(data.rstrip('k')) * 0.001\n",
        "    elif data.find('m') != -1 :\n",
        "      column[i] = data.rstrip('m')\n",
        "  return column.astype(float)\n",
        "\n",
        "def toCount(data) :\n",
        "  return data*100\n",
        "country_sales = (country_sales\n",
        "                 .apply(toFloat)\n",
        "                 .apply(toCount)\n",
        "                 .astype(int)\n",
        ")"
      ],
      "execution_count": 10,
      "outputs": []
    },
    {
      "cell_type": "code",
      "metadata": {
        "id": "nGU_wqlGkd-D",
        "colab": {
          "base_uri": "https://localhost:8080/"
        },
        "outputId": "c2f213ac-ae6b-457c-addb-36b56278dccb"
      },
      "source": [
        "country_sales.dtypes"
      ],
      "execution_count": 11,
      "outputs": [
        {
          "output_type": "execute_result",
          "data": {
            "text/plain": [
              "NA_Sales       int64\n",
              "EU_Sales       int64\n",
              "JP_Sales       int64\n",
              "Other_Sales    int64\n",
              "dtype: object"
            ]
          },
          "metadata": {
            "tags": []
          },
          "execution_count": 11
        }
      ]
    },
    {
      "cell_type": "markdown",
      "metadata": {
        "id": "jM85OejUUskf"
      },
      "source": [
        "## **데이터 전처리(연도)**"
      ]
    },
    {
      "cell_type": "code",
      "metadata": {
        "id": "g7sc5jzOVNav"
      },
      "source": [
        "year = df['Year']\n",
        "def reset_year(data) :\n",
        "  if data < 1000 :\n",
        "    if data == 0 : data\n",
        "    elif data < 21 : data += 2000\n",
        "    elif data < 100 : data += 1900\n",
        "  return int(data)\n",
        "year = year.apply(reset_year)"
      ],
      "execution_count": 12,
      "outputs": []
    },
    {
      "cell_type": "markdown",
      "metadata": {
        "id": "qABFKhsdDeTA"
      },
      "source": [
        "## **데이터 합치기(전처리 데이터들 종합)**"
      ]
    },
    {
      "cell_type": "code",
      "metadata": {
        "id": "tePHci1jDk3s",
        "colab": {
          "base_uri": "https://localhost:8080/",
          "height": 417
        },
        "outputId": "66cedd51-06cf-4acb-96ae-3fab2fcff655"
      },
      "source": [
        "df['Year'] = year\n",
        "df = df.drop(['NA_Sales','EU_Sales','JP_Sales','Other_Sales'],axis=1)\n",
        "df = pd.concat([df, country_sales], axis=1)\n",
        "df"
      ],
      "execution_count": 13,
      "outputs": [
        {
          "output_type": "execute_result",
          "data": {
            "text/html": [
              "<div>\n",
              "<style scoped>\n",
              "    .dataframe tbody tr th:only-of-type {\n",
              "        vertical-align: middle;\n",
              "    }\n",
              "\n",
              "    .dataframe tbody tr th {\n",
              "        vertical-align: top;\n",
              "    }\n",
              "\n",
              "    .dataframe thead th {\n",
              "        text-align: right;\n",
              "    }\n",
              "</style>\n",
              "<table border=\"1\" class=\"dataframe\">\n",
              "  <thead>\n",
              "    <tr style=\"text-align: right;\">\n",
              "      <th></th>\n",
              "      <th>Name</th>\n",
              "      <th>Platform</th>\n",
              "      <th>Year</th>\n",
              "      <th>Genre</th>\n",
              "      <th>Publisher</th>\n",
              "      <th>NA_Sales</th>\n",
              "      <th>EU_Sales</th>\n",
              "      <th>JP_Sales</th>\n",
              "      <th>Other_Sales</th>\n",
              "    </tr>\n",
              "  </thead>\n",
              "  <tbody>\n",
              "    <tr>\n",
              "      <th>0</th>\n",
              "      <td>Candace Kane's Candy Factory</td>\n",
              "      <td>DS</td>\n",
              "      <td>2008</td>\n",
              "      <td>Action</td>\n",
              "      <td>Destineer</td>\n",
              "      <td>4</td>\n",
              "      <td>0</td>\n",
              "      <td>0</td>\n",
              "      <td>0</td>\n",
              "    </tr>\n",
              "    <tr>\n",
              "      <th>1</th>\n",
              "      <td>The Munchables</td>\n",
              "      <td>Wii</td>\n",
              "      <td>2009</td>\n",
              "      <td>Action</td>\n",
              "      <td>Namco Bandai Games</td>\n",
              "      <td>17</td>\n",
              "      <td>0</td>\n",
              "      <td>0</td>\n",
              "      <td>1</td>\n",
              "    </tr>\n",
              "    <tr>\n",
              "      <th>2</th>\n",
              "      <td>Otome wa Oanesama Boku ni Koi Shiteru Portable</td>\n",
              "      <td>PSP</td>\n",
              "      <td>2010</td>\n",
              "      <td>Adventure</td>\n",
              "      <td>Alchemist</td>\n",
              "      <td>0</td>\n",
              "      <td>0</td>\n",
              "      <td>2</td>\n",
              "      <td>0</td>\n",
              "    </tr>\n",
              "    <tr>\n",
              "      <th>3</th>\n",
              "      <td>Deal or No Deal: Special Edition</td>\n",
              "      <td>DS</td>\n",
              "      <td>2010</td>\n",
              "      <td>Misc</td>\n",
              "      <td>Zoo Games</td>\n",
              "      <td>4</td>\n",
              "      <td>0</td>\n",
              "      <td>0</td>\n",
              "      <td>0</td>\n",
              "    </tr>\n",
              "    <tr>\n",
              "      <th>4</th>\n",
              "      <td>Ben 10 Ultimate Alien: Cosmic Destruction</td>\n",
              "      <td>PS3</td>\n",
              "      <td>2010</td>\n",
              "      <td>Platform</td>\n",
              "      <td>D3Publisher</td>\n",
              "      <td>12</td>\n",
              "      <td>9</td>\n",
              "      <td>0</td>\n",
              "      <td>4</td>\n",
              "    </tr>\n",
              "    <tr>\n",
              "      <th>...</th>\n",
              "      <td>...</td>\n",
              "      <td>...</td>\n",
              "      <td>...</td>\n",
              "      <td>...</td>\n",
              "      <td>...</td>\n",
              "      <td>...</td>\n",
              "      <td>...</td>\n",
              "      <td>...</td>\n",
              "      <td>...</td>\n",
              "    </tr>\n",
              "    <tr>\n",
              "      <th>16593</th>\n",
              "      <td>Ice Age 2: The Meltdown</td>\n",
              "      <td>GC</td>\n",
              "      <td>2006</td>\n",
              "      <td>Platform</td>\n",
              "      <td>Vivendi Games</td>\n",
              "      <td>15</td>\n",
              "      <td>4</td>\n",
              "      <td>0</td>\n",
              "      <td>1</td>\n",
              "    </tr>\n",
              "    <tr>\n",
              "      <th>16594</th>\n",
              "      <td>Rainbow Islands: Revolution</td>\n",
              "      <td>PSP</td>\n",
              "      <td>2005</td>\n",
              "      <td>Action</td>\n",
              "      <td>Rising Star Games</td>\n",
              "      <td>1</td>\n",
              "      <td>0</td>\n",
              "      <td>0</td>\n",
              "      <td>0</td>\n",
              "    </tr>\n",
              "    <tr>\n",
              "      <th>16595</th>\n",
              "      <td>NBA 2K16</td>\n",
              "      <td>PS3</td>\n",
              "      <td>2015</td>\n",
              "      <td>Sports</td>\n",
              "      <td>Take-Two Interactive</td>\n",
              "      <td>44</td>\n",
              "      <td>19</td>\n",
              "      <td>3</td>\n",
              "      <td>13</td>\n",
              "    </tr>\n",
              "    <tr>\n",
              "      <th>16596</th>\n",
              "      <td>Toukiden: The Age of Demons</td>\n",
              "      <td>PSV</td>\n",
              "      <td>2013</td>\n",
              "      <td>Action</td>\n",
              "      <td>Tecmo Koei</td>\n",
              "      <td>5</td>\n",
              "      <td>5</td>\n",
              "      <td>25</td>\n",
              "      <td>3</td>\n",
              "    </tr>\n",
              "    <tr>\n",
              "      <th>16597</th>\n",
              "      <td>The King of Fighters '95</td>\n",
              "      <td>PS</td>\n",
              "      <td>1996</td>\n",
              "      <td>Fighting</td>\n",
              "      <td>Sony Computer Entertainment</td>\n",
              "      <td>0</td>\n",
              "      <td>0</td>\n",
              "      <td>16</td>\n",
              "      <td>1</td>\n",
              "    </tr>\n",
              "  </tbody>\n",
              "</table>\n",
              "<p>16598 rows × 9 columns</p>\n",
              "</div>"
            ],
            "text/plain": [
              "                                                 Name  ... Other_Sales\n",
              "0                        Candace Kane's Candy Factory  ...           0\n",
              "1                                      The Munchables  ...           1\n",
              "2      Otome wa Oanesama Boku ni Koi Shiteru Portable  ...           0\n",
              "3                    Deal or No Deal: Special Edition  ...           0\n",
              "4           Ben 10 Ultimate Alien: Cosmic Destruction  ...           4\n",
              "...                                               ...  ...         ...\n",
              "16593                         Ice Age 2: The Meltdown  ...           1\n",
              "16594                     Rainbow Islands: Revolution  ...           0\n",
              "16595                                        NBA 2K16  ...          13\n",
              "16596                     Toukiden: The Age of Demons  ...           3\n",
              "16597                        The King of Fighters '95  ...           1\n",
              "\n",
              "[16598 rows x 9 columns]"
            ]
          },
          "metadata": {
            "tags": []
          },
          "execution_count": 13
        }
      ]
    },
    {
      "cell_type": "markdown",
      "metadata": {
        "id": "zQvcTfVUJ-Bw"
      },
      "source": [
        "## **지역에 따라서 선호하는 게임 장르가 다를까 ==> 장르와 지역은 상관이 없다**"
      ]
    },
    {
      "cell_type": "code",
      "metadata": {
        "id": "rPTaPKmMZSJC",
        "colab": {
          "base_uri": "https://localhost:8080/",
          "height": 172
        },
        "outputId": "f5abd52a-69ad-44c4-c2fb-70c90f770090"
      },
      "source": [
        "df_groupby_Genre  = (df\n",
        "                     .loc[:, ['Genre', 'NA_Sales','EU_Sales','JP_Sales','Other_Sales']]\n",
        "                     .groupby(by=['Genre'])\n",
        "                     .sum()\n",
        "                     .dropna()\n",
        ")\n",
        "df_groupby_Genre = df_groupby_Genre[1:].T\n",
        "df_groupby_Genre"
      ],
      "execution_count": 14,
      "outputs": [
        {
          "output_type": "execute_result",
          "data": {
            "text/html": [
              "<div>\n",
              "<style scoped>\n",
              "    .dataframe tbody tr th:only-of-type {\n",
              "        vertical-align: middle;\n",
              "    }\n",
              "\n",
              "    .dataframe tbody tr th {\n",
              "        vertical-align: top;\n",
              "    }\n",
              "\n",
              "    .dataframe thead th {\n",
              "        text-align: right;\n",
              "    }\n",
              "</style>\n",
              "<table border=\"1\" class=\"dataframe\">\n",
              "  <thead>\n",
              "    <tr style=\"text-align: right;\">\n",
              "      <th>Genre</th>\n",
              "      <th>Action</th>\n",
              "      <th>Adventure</th>\n",
              "      <th>Fighting</th>\n",
              "      <th>Misc</th>\n",
              "      <th>Platform</th>\n",
              "      <th>Puzzle</th>\n",
              "      <th>Racing</th>\n",
              "      <th>Role-Playing</th>\n",
              "      <th>Shooter</th>\n",
              "      <th>Simulation</th>\n",
              "      <th>Sports</th>\n",
              "      <th>Strategy</th>\n",
              "    </tr>\n",
              "  </thead>\n",
              "  <tbody>\n",
              "    <tr>\n",
              "      <th>NA_Sales</th>\n",
              "      <td>87418</td>\n",
              "      <td>10560</td>\n",
              "      <td>22307</td>\n",
              "      <td>40784</td>\n",
              "      <td>44632</td>\n",
              "      <td>12329</td>\n",
              "      <td>35702</td>\n",
              "      <td>31932</td>\n",
              "      <td>58168</td>\n",
              "      <td>18291</td>\n",
              "      <td>68014</td>\n",
              "      <td>6865</td>\n",
              "    </tr>\n",
              "    <tr>\n",
              "      <th>EU_Sales</th>\n",
              "      <td>52182</td>\n",
              "      <td>6405</td>\n",
              "      <td>10112</td>\n",
              "      <td>21222</td>\n",
              "      <td>20153</td>\n",
              "      <td>5072</td>\n",
              "      <td>23695</td>\n",
              "      <td>18348</td>\n",
              "      <td>31283</td>\n",
              "      <td>11330</td>\n",
              "      <td>37628</td>\n",
              "      <td>4529</td>\n",
              "    </tr>\n",
              "    <tr>\n",
              "      <th>JP_Sales</th>\n",
              "      <td>15778</td>\n",
              "      <td>5192</td>\n",
              "      <td>8732</td>\n",
              "      <td>10522</td>\n",
              "      <td>13063</td>\n",
              "      <td>5686</td>\n",
              "      <td>5639</td>\n",
              "      <td>34474</td>\n",
              "      <td>3826</td>\n",
              "      <td>6369</td>\n",
              "      <td>13523</td>\n",
              "      <td>4938</td>\n",
              "    </tr>\n",
              "    <tr>\n",
              "      <th>Other_Sales</th>\n",
              "      <td>18633</td>\n",
              "      <td>1680</td>\n",
              "      <td>3661</td>\n",
              "      <td>7403</td>\n",
              "      <td>5148</td>\n",
              "      <td>1251</td>\n",
              "      <td>7709</td>\n",
              "      <td>5696</td>\n",
              "      <td>10259</td>\n",
              "      <td>3145</td>\n",
              "      <td>13463</td>\n",
              "      <td>1136</td>\n",
              "    </tr>\n",
              "  </tbody>\n",
              "</table>\n",
              "</div>"
            ],
            "text/plain": [
              "Genre        Action  Adventure  Fighting  ...  Simulation  Sports  Strategy\n",
              "NA_Sales      87418      10560     22307  ...       18291   68014      6865\n",
              "EU_Sales      52182       6405     10112  ...       11330   37628      4529\n",
              "JP_Sales      15778       5192      8732  ...        6369   13523      4938\n",
              "Other_Sales   18633       1680      3661  ...        3145   13463      1136\n",
              "\n",
              "[4 rows x 12 columns]"
            ]
          },
          "metadata": {
            "tags": []
          },
          "execution_count": 14
        }
      ]
    },
    {
      "cell_type": "code",
      "metadata": {
        "id": "MJUt0JbXhB6b",
        "colab": {
          "base_uri": "https://localhost:8080/"
        },
        "outputId": "62b5f64c-2518-4465-c14e-ac9c52a94e3f"
      },
      "source": [
        "from scipy.stats import chi2_contingency\n",
        "df_Relation_GenreCountry = chi2_contingency(df_groupby_Genre, correction = False)\n",
        "df_Relation_GenreCountry"
      ],
      "execution_count": 15,
      "outputs": [
        {
          "output_type": "execute_result",
          "data": {
            "text/plain": [
              "(69642.67327891082,\n",
              " 0.0,\n",
              " 33,\n",
              " array([[85838.43652972, 11758.62911861, 22105.45320566, 39429.41578553,\n",
              "         40941.35932912, 12005.76899311, 35884.61111857, 44618.36656368,\n",
              "         51073.60089041, 19305.02792117, 65424.48557886,  8616.84496555],\n",
              "        [47526.97302139,  6510.51057641, 12239.33380668, 21831.25480902,\n",
              "         22668.38678522,  6647.34683092, 19868.56952975, 24704.26990124,\n",
              "         28278.40009392, 10688.79604848, 36224.18914828,  4770.9694487 ],\n",
              "        [25091.81550469,  3437.21722296,  6461.74343229, 11525.78805423,\n",
              "         11967.7510021 ,  3509.45977986, 10489.5904218 , 13042.59335559,\n",
              "         14929.55163808,  5643.13865087, 19124.52262647,  2518.82831106],\n",
              "        [15553.77494421,  2130.64308202,  4005.46955537,  7144.54135121,\n",
              "          7418.50288355,  2175.42439611,  6502.22892987,  8084.77017949,\n",
              "          9254.4473776 ,  3498.03737949, 11854.80264639,  1561.35727469]]))"
            ]
          },
          "metadata": {
            "tags": []
          },
          "execution_count": 15
        }
      ]
    },
    {
      "cell_type": "code",
      "metadata": {
        "colab": {
          "base_uri": "https://localhost:8080/",
          "height": 408
        },
        "id": "oMj81OXxemqp",
        "outputId": "0f70c5e7-2360-4254-f8c4-386de987b4c5"
      },
      "source": [
        "from numpy import linspace\n",
        "from scipy.stats import chi2\n",
        "import matplotlib.pyplot as plt\n",
        "\n",
        "dof = 33         # 자유도\n",
        "x = linspace(0, 60, 201)\n",
        "y = chi2(dof).pdf(x)\n",
        "\n",
        "plt.figure(figsize=(10, 6))\n",
        "plt.plot(x, y, 'b--')\n",
        "plt.xlabel('X')\n",
        "plt.ylabel('P(X)')\n",
        "plt.grid()\n",
        "plt.title(r'$\\chi^2$ Distribution (dof = 33)')\n",
        "plt.show()"
      ],
      "execution_count": 16,
      "outputs": [
        {
          "output_type": "display_data",
          "data": {
            "image/png": "[encoded data removed]",
            "text/plain": [
              "<Figure size 720x432 with 1 Axes>"
            ]
          },
          "metadata": {
            "tags": [],
            "needs_background": "light"
          }
        }
      ]
    },
    {
      "cell_type": "code",
      "metadata": {
        "colab": {
          "base_uri": "https://localhost:8080/",
          "height": 408
        },
        "id": "S8160KK_e16N",
        "outputId": "0a36386c-4b13-4642-ddbf-c0900bc999f8"
      },
      "source": [
        "x95 = chi2(dof).ppf(.95)\n",
        "\n",
        "plt.figure(figsize=(10, 6))\n",
        "plt.plot(x, y, 'b--')\n",
        "\n",
        "plt.axvline(x=x95, color='black', linestyle=':')\n",
        "plt.text(x95, .004, 'critical value\\n=' + str(round(x95, 4)), \n",
        "         horizontalalignment='center', color='b')\n",
        "\n",
        "plt.xlabel('X')\n",
        "plt.ylabel('P(X)')\n",
        "plt.grid()\n",
        "plt.title(r'$\\chi^2$ Distribution (dof = 33)')\n",
        "plt.show()"
      ],
      "execution_count": 17,
      "outputs": [
        {
          "output_type": "display_data",
          "data": {
            "image/png": "[encoded data removed]",
            "text/plain": [
              "<Figure size 720x432 with 1 Axes>"
            ]
          },
          "metadata": {
            "tags": [],
            "needs_background": "light"
          }
        }
      ]
    },
    {
      "cell_type": "code",
      "metadata": {
        "id": "dHaGfPiwt5mA",
        "colab": {
          "base_uri": "https://localhost:8080/",
          "height": 408
        },
        "outputId": "f3d6e427-2c25-408d-b4de-bf50322ce711"
      },
      "source": [
        "dof = 33          # 자유도\n",
        "x = linspace(0, 60, 201)\n",
        "y = chi2(dof).pdf(x)\n",
        "\n",
        "x95 = chi2(dof).ppf(.95)\n",
        "plt.figure(figsize=(10, 6))\n",
        "plt.plot(x, y, 'b--')\n",
        "\n",
        "plt.axvline(x=x95, color='b', linestyle=':')\n",
        "plt.text(x95, 0.04, 'critical value\\n=' + str(round(x95, 4)),va = 'center_baseline', ha='center', color='b')\n",
        "plt.axvline(x=df_Relation_GenreCountry[0], color='r', linestyle=':')\n",
        "plt.text(df_Relation_GenreCountry[0], 0.04, 'statistic\\n' + str(round(df_Relation_GenreCountry[0], 4)),va = 'center_baseline', ha='center', color='r')\n",
        "\n",
        "plt.xlabel('X')\n",
        "plt.ylabel('P(X)')\n",
        "plt.grid()\n",
        "plt.title(r'$\\chi^2$ Distribution (dof = 33)')\n",
        "plt.show()  "
      ],
      "execution_count": 18,
      "outputs": [
        {
          "output_type": "display_data",
          "data": {
            "image/png": "[encoded data removed]",
            "text/plain": [
              "<Figure size 720x432 with 1 Axes>"
            ]
          },
          "metadata": {
            "tags": [],
            "needs_background": "light"
          }
        }
      ]
    },
    {
      "cell_type": "markdown",
      "metadata": {
        "id": "LwmjZ_myVIg7"
      },
      "source": [
        "## **연도별 게임의 트렌드가 있을까**"
      ]
    },
    {
      "cell_type": "code",
      "metadata": {
        "id": "4TJQBFX3bS2T",
        "colab": {
          "base_uri": "https://localhost:8080/",
          "height": 447
        },
        "outputId": "eb7df674-c332-452c-ded0-ba3f09dda7ea"
      },
      "source": [
        "df_TotalPerYear = (df\n",
        "                    .drop(df[ df['Genre'] == 0 ].index) #결측치 제거\n",
        "                    .drop(df[ df['Year'] == 0 ].index) #결측치 제거\n",
        "                    .loc[:, ['Genre', 'Year', 'NA_Sales','EU_Sales','JP_Sales','Other_Sales']]\n",
        "                    .groupby(by=['Genre','Year'])\n",
        "                    .sum()\n",
        ")\n",
        "df_TotalPerYear[\"Total_Sales\"] = df_TotalPerYear.sum(axis=1)\n",
        "df_TotalPerYear"
      ],
      "execution_count": 19,
      "outputs": [
        {
          "output_type": "execute_result",
          "data": {
            "text/html": [
              "<div>\n",
              "<style scoped>\n",
              "    .dataframe tbody tr th:only-of-type {\n",
              "        vertical-align: middle;\n",
              "    }\n",
              "\n",
              "    .dataframe tbody tr th {\n",
              "        vertical-align: top;\n",
              "    }\n",
              "\n",
              "    .dataframe thead th {\n",
              "        text-align: right;\n",
              "    }\n",
              "</style>\n",
              "<table border=\"1\" class=\"dataframe\">\n",
              "  <thead>\n",
              "    <tr style=\"text-align: right;\">\n",
              "      <th></th>\n",
              "      <th></th>\n",
              "      <th>NA_Sales</th>\n",
              "      <th>EU_Sales</th>\n",
              "      <th>JP_Sales</th>\n",
              "      <th>Other_Sales</th>\n",
              "      <th>Total_Sales</th>\n",
              "    </tr>\n",
              "    <tr>\n",
              "      <th>Genre</th>\n",
              "      <th>Year</th>\n",
              "      <th></th>\n",
              "      <th></th>\n",
              "      <th></th>\n",
              "      <th></th>\n",
              "      <th></th>\n",
              "    </tr>\n",
              "  </thead>\n",
              "  <tbody>\n",
              "    <tr>\n",
              "      <th rowspan=\"5\" valign=\"top\">Action</th>\n",
              "      <th>1980</th>\n",
              "      <td>32</td>\n",
              "      <td>2</td>\n",
              "      <td>0</td>\n",
              "      <td>0</td>\n",
              "      <td>34</td>\n",
              "    </tr>\n",
              "    <tr>\n",
              "      <th>1981</th>\n",
              "      <td>1385</td>\n",
              "      <td>81</td>\n",
              "      <td>0</td>\n",
              "      <td>12</td>\n",
              "      <td>1478</td>\n",
              "    </tr>\n",
              "    <tr>\n",
              "      <th>1982</th>\n",
              "      <td>604</td>\n",
              "      <td>38</td>\n",
              "      <td>0</td>\n",
              "      <td>5</td>\n",
              "      <td>647</td>\n",
              "    </tr>\n",
              "    <tr>\n",
              "      <th>1983</th>\n",
              "      <td>267</td>\n",
              "      <td>17</td>\n",
              "      <td>0</td>\n",
              "      <td>2</td>\n",
              "      <td>286</td>\n",
              "    </tr>\n",
              "    <tr>\n",
              "      <th>1984</th>\n",
              "      <td>80</td>\n",
              "      <td>19</td>\n",
              "      <td>83</td>\n",
              "      <td>3</td>\n",
              "      <td>185</td>\n",
              "    </tr>\n",
              "    <tr>\n",
              "      <th>...</th>\n",
              "      <th>...</th>\n",
              "      <td>...</td>\n",
              "      <td>...</td>\n",
              "      <td>...</td>\n",
              "      <td>...</td>\n",
              "      <td>...</td>\n",
              "    </tr>\n",
              "    <tr>\n",
              "      <th rowspan=\"5\" valign=\"top\">Strategy</th>\n",
              "      <th>2012</th>\n",
              "      <td>94</td>\n",
              "      <td>99</td>\n",
              "      <td>111</td>\n",
              "      <td>29</td>\n",
              "      <td>333</td>\n",
              "    </tr>\n",
              "    <tr>\n",
              "      <th>2013</th>\n",
              "      <td>239</td>\n",
              "      <td>247</td>\n",
              "      <td>81</td>\n",
              "      <td>64</td>\n",
              "      <td>631</td>\n",
              "    </tr>\n",
              "    <tr>\n",
              "      <th>2014</th>\n",
              "      <td>16</td>\n",
              "      <td>22</td>\n",
              "      <td>55</td>\n",
              "      <td>4</td>\n",
              "      <td>97</td>\n",
              "    </tr>\n",
              "    <tr>\n",
              "      <th>2015</th>\n",
              "      <td>57</td>\n",
              "      <td>97</td>\n",
              "      <td>15</td>\n",
              "      <td>12</td>\n",
              "      <td>181</td>\n",
              "    </tr>\n",
              "    <tr>\n",
              "      <th>2016</th>\n",
              "      <td>11</td>\n",
              "      <td>32</td>\n",
              "      <td>5</td>\n",
              "      <td>4</td>\n",
              "      <td>52</td>\n",
              "    </tr>\n",
              "  </tbody>\n",
              "</table>\n",
              "<p>388 rows × 5 columns</p>\n",
              "</div>"
            ],
            "text/plain": [
              "               NA_Sales  EU_Sales  JP_Sales  Other_Sales  Total_Sales\n",
              "Genre    Year                                                        \n",
              "Action   1980        32         2         0            0           34\n",
              "         1981      1385        81         0           12         1478\n",
              "         1982       604        38         0            5          647\n",
              "         1983       267        17         0            2          286\n",
              "         1984        80        19        83            3          185\n",
              "...                 ...       ...       ...          ...          ...\n",
              "Strategy 2012        94        99       111           29          333\n",
              "         2013       239       247        81           64          631\n",
              "         2014        16        22        55            4           97\n",
              "         2015        57        97        15           12          181\n",
              "         2016        11        32         5            4           52\n",
              "\n",
              "[388 rows x 5 columns]"
            ]
          },
          "metadata": {
            "tags": []
          },
          "execution_count": 19
        }
      ]
    },
    {
      "cell_type": "code",
      "metadata": {
        "colab": {
          "base_uri": "https://localhost:8080/"
        },
        "id": "nXmowSHAjFqY",
        "outputId": "02bfcbe3-ffd8-4b0a-f6d4-d8a2b9ec4ee3"
      },
      "source": [
        "temp = df_TotalPerYear.pivot_table(values=\"Total_Sales\",index=\"Year\",columns=\"Genre\").fillna(0).astype(int)\n",
        "BestGenre = temp.idxmax(axis=1)\n",
        "temp,BestGenre"
      ],
      "execution_count": 20,
      "outputs": [
        {
          "output_type": "execute_result",
          "data": {
            "text/plain": [
              "(Genre  Action  Adventure  Fighting  Misc  ...  Shooter  Simulation  Sports  Strategy\n",
              " Year                                      ...                                       \n",
              " 1980       34          0        77   270  ...      707           0       0         0\n",
              " 1981     1478          0         0     0  ...     1002          44      78         0\n",
              " 1982      647          0         0    87  ...      380           0     106         0\n",
              " 1983      286         40         0   214  ...       49           0     320         0\n",
              " 1984      185          0         0   145  ...     3110           0     617         0\n",
              " 1985      352          0       105     0  ...      100           4     196         0\n",
              " 1986     1372          0         0     0  ...      388           0     557         0\n",
              " 1987      111        438       541     0  ...       69           0     371         0\n",
              " 1988      174          0         0     0  ...       51           3     360         0\n",
              " 1989      465          0         0   128  ...      119           0     572         0\n",
              " 1990      639          0         0     0  ...        0         113     211         0\n",
              " 1991      675        224        39     8  ...      199         215     241        94\n",
              " 1992      384       1223      1523   494  ...       28         214     295        35\n",
              " 1993      181          7       875    30  ...      308          19     318        81\n",
              " 1994      154        374       846   285  ...      829         272     841       357\n",
              " 1995      358         71      1482   639  ...      415         417     798       654\n",
              " 1996     2058        418      1802  1065  ...      689        1133    1740       560\n",
              " 1997     2757        497      1180   568  ...     2214         963    3001       770\n",
              " 1998     3936        904      3167  1184  ...      980         711    4173      1349\n",
              " 1999     2761        759      1430  2068  ...     1222        1146    3020      1846\n",
              " 2000     3386        296      2024  1554  ...      681         337    4123       831\n",
              " 2001     5664        896      1806  1638  ...     2478        1954    5145       753\n",
              " 2002     8664       1106      2491  1562  ...     4761        1081    6525       550\n",
              " 2003     6794        212      2377  2378  ...     2708        2121    5588       793\n",
              " 2004     7611        863      1676  3115  ...     4689        1088    6106       714\n",
              " 2005     8544        853      1967  6112  ...     4155        4927    5949       534\n",
              " 2006     6644       1148      2252  6721  ...     3834        2172   13612       423\n",
              " 2007    10588       2442      1761  9223  ...     7084        4884    9817       938\n",
              " 2008    13534       2490      3540  8610  ...     5948        4639    9512      1167\n",
              " 2009    13831       2066      3217  7688  ...     6979        3354   13853      1251\n",
              " 2010    11742       1656      1487  8835  ...     7742        2204    9196      1382\n",
              " 2011    11890       1588      2210  5575  ...     9932        1533    5704       902\n",
              " 2012    12073        590       953  2288  ...     7282        1335    3087       333\n",
              " 2013    12512        661       721  2565  ...     6269         868    4154       631\n",
              " 2014     9897        609      1614  2371  ...     6595         553    4662        97\n",
              " 2015     6821        800       778  1165  ...     6609         560    4148       181\n",
              " 2016     1982        181       385   115  ...     1815          39    1462        52\n",
              " 2017        1          0         0     0  ...        0           0       0         0\n",
              " 2020        0          0         0     0  ...        0          29       0         0\n",
              " \n",
              " [39 rows x 12 columns], Year\n",
              " 1980         Shooter\n",
              " 1981          Action\n",
              " 1982          Puzzle\n",
              " 1983        Platform\n",
              " 1984         Shooter\n",
              " 1985        Platform\n",
              " 1986          Action\n",
              " 1987        Fighting\n",
              " 1988        Platform\n",
              " 1989          Puzzle\n",
              " 1990        Platform\n",
              " 1991        Platform\n",
              " 1992        Fighting\n",
              " 1993        Platform\n",
              " 1994        Platform\n",
              " 1995        Platform\n",
              " 1996    Role-Playing\n",
              " 1997          Racing\n",
              " 1998          Sports\n",
              " 1999    Role-Playing\n",
              " 2000          Sports\n",
              " 2001          Action\n",
              " 2002          Action\n",
              " 2003          Action\n",
              " 2004          Action\n",
              " 2005          Action\n",
              " 2006          Sports\n",
              " 2007          Action\n",
              " 2008          Action\n",
              " 2009          Sports\n",
              " 2010          Action\n",
              " 2011          Action\n",
              " 2012          Action\n",
              " 2013          Action\n",
              " 2014          Action\n",
              " 2015          Action\n",
              " 2016          Action\n",
              " 2017    Role-Playing\n",
              " 2020      Simulation\n",
              " dtype: object)"
            ]
          },
          "metadata": {
            "tags": []
          },
          "execution_count": 20
        }
      ]
    },
    {
      "cell_type": "code",
      "metadata": {
        "id": "lfrG0sMJ2yXW",
        "outputId": "8a77d78f-e88a-4686-cc87-5ba21cac9a89",
        "colab": {
          "base_uri": "https://localhost:8080/",
          "height": 279
        }
      },
      "source": [
        "ax = temp.plot()"
      ],
      "execution_count": 21,
      "outputs": [
        {
          "output_type": "display_data",
          "data": {
            "image/png": "[encoded data removed]",
            "text/plain": [
              "<Figure size 432x288 with 1 Axes>"
            ]
          },
          "metadata": {
            "tags": [],
            "needs_background": "light"
          }
        }
      ]
    },
    {
      "cell_type": "code",
      "metadata": {
        "id": "S-p_pPVF1U-S",
        "outputId": "543e10ab-68e9-4593-9895-be08e454be5c",
        "colab": {
          "base_uri": "https://localhost:8080/"
        }
      },
      "source": [
        "# t1 = np.arange(0.0, 5.0, 0.01)\n",
        "# t2 = np.arange(0.0, 5.0, 0.01)\n",
        "\n",
        "# plt.subplot(221)\n",
        "# plt.plot(t1, f(t1))\n",
        "\n",
        "# plt.subplot(222)\n",
        "# plt.plot(t2, g(t2))\n",
        "\n",
        "# plt.subplot(223)\n",
        "# plt.plot(t1, f(t1), 'r-')\n",
        "\n",
        "# plt.subplot(224)\n",
        "# plt.plot(t2, g(t2), 'r-')\n",
        "\n",
        "# plt.show()\n",
        "temp.columns"
      ],
      "execution_count": 22,
      "outputs": [
        {
          "output_type": "execute_result",
          "data": {
            "text/plain": [
              "Index(['Action', 'Adventure', 'Fighting', 'Misc', 'Platform', 'Puzzle',\n",
              "       'Racing', 'Role-Playing', 'Shooter', 'Simulation', 'Sports',\n",
              "       'Strategy'],\n",
              "      dtype='object', name='Genre')"
            ]
          },
          "metadata": {
            "tags": []
          },
          "execution_count": 22
        }
      ]
    }
  ]
}